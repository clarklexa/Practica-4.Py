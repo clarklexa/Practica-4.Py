{
 "cells": [
  {
   "cell_type": "markdown",
   "metadata": {},
   "source": [
    "# Credit"
   ]
  },
  {
   "cell_type": "markdown",
   "metadata": {},
   "source": [
    "Implemente un programa que determine si un número de tarjeta de crédito proporcionado es válido según el algoritmo de Luhn."
   ]
  },
  {
   "cell_type": "markdown",
   "metadata": {},
   "source": [
    "<code>$ python credit.py\n",
    "Number: 378282246310005\n",
    "AMEX</code>"
   ]
  },
  {
   "cell_type": "markdown",
   "metadata": {},
   "source": [
    "Una tarjeta de crédito (o débito), por supuesto, es una tarjeta de plástico con la que puede pagar bienes y servicios. Impreso en esa tarjeta hay un número que también está almacenado en una base de datos en algún lugar, de modo que cuando su tarjeta se usa para comprar algo, el acreedor sabe a quién facturar. Hay muchas personas con tarjetas de crédito en este mundo, por lo que esos números son bastante largos: American Express usa números de 15 dígitos, MasterCard usa números de 16 dígitos y Visa usa números de 13 y 16 dígitos. Y esos dígitos son números decimales (0 a 9), no binarios, lo que significa, por ejemplo, que American Express podría imprimir hasta 10 ^ 15 = 1,000,000,000,000,000 tarjetas únicas. (Eso es, um, un billón).\n",
    "\n",
    "En realidad, eso es un poco exagerado, porque los números de las tarjetas de crédito en realidad tienen cierta estructura. Todos los números de American Express comienzan con 34 o 37; la mayoría de los números de MasterCard comienzan con 51, 52, 53, 54 o 55; y todos los números de Visa comienzan con 4. Pero los números de tarjetas de crédito también tienen una \"suma de verificación\" incorporada, una relación matemática entre al menos un número y otros. Esa suma de comprobación permite a las computadoras (o humanos a los que les gustan las matemáticas) detectar errores tipográficos (por ejemplo, transposiciones), si no números fraudulentos, sin tener que consultar una base de datos, lo que puede ser lento. Por supuesto, un matemático deshonesto podría sin duda crear un número falso que, sin embargo, respete la restricción matemática, por lo que una búsqueda en la base de datos aún es necesaria para verificaciones más rigurosas."
   ]
  },
  {
   "cell_type": "markdown",
   "metadata": {},
   "source": [
    "## Especificaciones"
   ]
  },
  {
   "cell_type": "markdown",
   "metadata": {},
   "source": [
    "- En <code>credit.py</code> escribir un programa que solicita al usuario un número de tarjeta de crédito y luego informes (a través de <code>print</code>) si se trata de una válida American Express, MasterCard, o número de tarjeta Visa.\n",
    "- Para que podamos automatizar algunas pruebas de su código, le pedimos que la última línea de salida de su programa sea <code>AMEX\\n</code>o <code>MASTERCARD\\n</code> o <code>VISA\\n</code> o <code>INVALID\\n</code> , nada más, nada menos.\n",
    "- Para simplificar, puede suponer que la entrada del usuario será completamente numérica (es decir, sin guiones, como podría estar impreso en una tarjeta real)."
   ]
  },
  {
   "cell_type": "markdown",
   "metadata": {},
   "source": [
    "## Uso"
   ]
  },
  {
   "cell_type": "markdown",
   "metadata": {},
   "source": [
    "Su programa debería comportarse según el ejemplo siguiente."
   ]
  },
  {
   "cell_type": "markdown",
   "metadata": {},
   "source": [
    "<code>$ python credit.py\n",
    "Number: 378282246310005\n",
    "AMEX</code>"
   ]
  },
  {
   "cell_type": "markdown",
   "metadata": {},
   "source": [
    "## Algoritmo de Luhn"
   ]
  },
  {
   "cell_type": "markdown",
   "metadata": {},
   "source": [
    "Entonces, ¿cuál es la fórmula secreta? Bueno, la mayoría de las tarjetas utilizan un algoritmo inventado por Hans Peter Luhn de IBM. De acuerdo con el algoritmo de Luhn, puede determinar si un número de tarjeta de crédito es (sintácticamente) válido de la siguiente manera:\n",
    "\n",
    "1. Multiplica cada dos dígitos por 2, comenzando con el penúltimo dígito del número y luego suma los dígitos de esos productos.\n",
    "2. Suma la suma a la suma de los dígitos que no se multiplicaron por 2.\n",
    "3. Si el último dígito del total es 0 (o, dicho de manera más formal, si el módulo total 10 es congruente con 0), ¡el número es válido!\n",
    "\n",
    "Eso es un poco confuso, así que probemos un ejemplo con la visa de David: 4003600000000014.\n",
    "\n",
    "1. Por el bien de la discusión, primero subrayemos cada dos dígitos, comenzando con el penúltimo dígito del número:\n",
    "\n",
    "    **4** 0 **0** 3 **6** 0 **0** 0 **0** 0 **0** 0 **0** 0 **1** 4\n",
    "\n",
    "    Bien, multipliquemos cada uno de los dígitos subrayados por 2:\n",
    "\n",
    "    1 • 2 + 0 • 2 + 0 • 2 + 0 • 2 + 0 • 2 + 6 • 2 + 0 • 2 + 4 • 2\n",
    "\n",
    "    Eso nos da:\n",
    "\n",
    "    2 + 0 + 0 + 0 + 0 + 12 + 0 + 8\n",
    "\n",
    "2. Ahora agreguemos los dígitos de esos productos (es decir, no los productos en sí) juntos:\n",
    "\n",
    "    2 + 0 + 0 + 0 + 0 + 1 + 2 + 0 + 8 = 13\n",
    "\n",
    "    Ahora agreguemos esa suma (13) a la suma de los dígitos que no fueron multiplicados por 2 (comenzando desde el final):\n",
    "\n",
    "    13 + 4 + 0 + 0 + 0 + 0 + 0 + 3 + 0 = 20\n",
    "\n",
    "3. Sí, el último dígito de esa suma (20) es un 0, ¡así que la tarjeta de David es legítima!\n",
    "\n",
    "Por lo tanto, validar los números de tarjetas de crédito no es difícil, pero se vuelve un poco tedioso a mano. Escribamos un programa."
   ]
  },
  {
   "cell_type": "markdown",
   "metadata": {},
   "source": [
    "## Pruebas"
   ]
  },
  {
   "cell_type": "markdown",
   "metadata": {},
   "source": [
    "- Ejecute su programa como python <code>credit.py</code>y espere a que se le solicite la entrada. Escribe <code>378282246310005</code> y presiona enter. Su programa debería generar <code>AMEX</code>.\n",
    "- Ejecute su programa como python <code>credit.py</code> y espere a que se le solicite la entrada. Escribe <code>371449635398431</code> y presiona enter. Su programa debería generar <code>AMEX</code>.\n",
    "- Ejecute su programa como python <code>credit.py</code> y espere a que se le solicite la entrada. Escribe <code>5555555555554444</code> y presiona enter. Su programa debería generar <code>MASTERCARD</code>.\n",
    "- Ejecute su programa como python <code>credit.py</code> y espere a que se le solicite la entrada. Escribe <code>5105105105105100</code> y presiona enter. Su programa debería generar <code>MASTERCARD</code>.\n",
    "- Ejecute su programa como python <code>credit.py</code> y espere a que se le solicite la entrada. Escribe <code>4111111111111111</code> y presiona enter. Su programa debería generar <code>VISA</code>.\n",
    "- Ejecute su programa como python <code>credit.py</code> y espere a que se le solicite la entrada. Escribe <code>4012888888881881</code> y presiona enter. Su programa debería generar <code>VISA</code>.\n",
    "- Ejecute su programa como python <code>credit.py</code> y espere a que se le solicite la entrada. Escribe <code>1234567890</code> y presiona enter. Su programa debería generar <code>INVALID</code> ."
   ]
  },
  {
   "cell_type": "markdown",
   "metadata": {},
   "source": [
    "Aqui más códigos de tarjetas de paypal para validar <a href='https://developer.paypal.com/docs/payflow/payflow-pro/payflow-pro-testing/#credit-card-numbers-for-testing'>link</a>"
   ]
  },
  {
   "cell_type": "code",
   "execution_count": null,
   "metadata": {},
   "outputs": [],
   "source": [
    "import string"
   ]
  },
  {
   "cell_type": "code",
   "execution_count": null,
   "metadata": {},
   "outputs": [],
   "source": [
    "numeros = string.digits"
   ]
  },
  {
   "cell_type": "code",
   "execution_count": null,
   "metadata": {},
   "outputs": [],
   "source": [
    "def caracteres_validos():\n",
    "    count = 0\n",
    "    numero_tarjeta = input(\"Digite tarjeta (máximo 16 dígitos): \")\n",
    "    for i in range(len(numero_tarjeta)):\n",
    "        if numero_tarjeta[i] in numeros:\n",
    "            count += 1\n",
    "    if count == len(numero_tarjeta):\n",
    "        return numero_tarjeta\n",
    "    else:\n",
    "        print(\"Digitos incorrectos\\n\")\n",
    "        return caracteres_validos()"
   ]
  },
  {
   "cell_type": "code",
   "execution_count": null,
   "metadata": {},
   "outputs": [],
   "source": [
    "def luhn(ccn):\n",
    "    c = [int(x) for x in ccn[::-2]]\n",
    "    u2 = [(2*int(y))//10+(2*int(y))%10 for y in ccn[-2::-2]]\n",
    "    return sum(c+u2)%10 == 0"
   ]
  },
  {
   "cell_type": "code",
   "execution_count": null,
   "metadata": {},
   "outputs": [],
   "source": [
    "def tipo_tarjeta(ccn,bol):\n",
    "    if bol:\n",
    "        if ccn[0] == '3':\n",
    "            if ccn[1]== '7':\n",
    "                return \"AMEX\"\n",
    "            elif ccn[1]=='0':\n",
    "                return \"DINNERS CLUB\"\n",
    "            elif ccn[1] == '5':\n",
    "                return \"JCB\"\n",
    "\n",
    "        elif ccn[0] == '6':\n",
    "            return \"DISCOVER\"\n",
    "\n",
    "        elif ccn[0] == '2' or ccn[0] == '5':\n",
    "            return \"MASTERCARD\"\n",
    "        \n",
    "        elif ccn[0] == '4':\n",
    "            return \"VISA\"\n",
    "            \n",
    "    else:\n",
    "        return \"INVALID\""
   ]
  },
  {
   "cell_type": "code",
   "execution_count": null,
   "metadata": {},
   "outputs": [],
   "source": [
    "cuenta_tarjeta = caracteres_validos()"
   ]
  },
  {
   "cell_type": "code",
   "execution_count": null,
   "metadata": {},
   "outputs": [],
   "source": [
    "bol = luhn(cuenta_tarjeta)"
   ]
  },
  {
   "cell_type": "code",
   "execution_count": null,
   "metadata": {},
   "outputs": [],
   "source": [
    "tipo = tipo_tarjeta(cuenta_tarjeta , bol)"
   ]
  },
  {
   "cell_type": "code",
   "execution_count": null,
   "metadata": {},
   "outputs": [],
   "source": [
    "print(\"Su tarjeta es \"+tipo)"
   ]
  }
 ],
 "metadata": {
  "kernelspec": {
   "display_name": "Python 3",
   "language": "python",
   "name": "python3"
  },
  "language_info": {
   "codemirror_mode": {
    "name": "ipython",
    "version": 3
   },
   "file_extension": ".py",
   "mimetype": "text/x-python",
   "name": "python",
   "nbconvert_exporter": "python",
   "pygments_lexer": "ipython3",
   "version": "3.8.5"
  }
 },
 "nbformat": 4,
 "nbformat_minor": 4
}
