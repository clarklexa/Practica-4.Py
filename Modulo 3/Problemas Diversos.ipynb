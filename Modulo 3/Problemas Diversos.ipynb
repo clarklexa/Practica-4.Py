{
 "cells": [
  {
   "cell_type": "markdown",
   "metadata": {},
   "source": [
    "# PROBLEMAS DIVERSOS"
   ]
  },
  {
   "cell_type": "markdown",
   "metadata": {},
   "source": [
    "<h3>1.</h3>\n",
    "Realizar una función que permita la carga de n alumnos. Por cada alumno se deberá preguntar el nombre completo y permitir el ingreso de 3 notas. Las notas deben estar comprendidas entre 0 y 10. Devolver el listado de alumnos."
   ]
  },
  {
   "cell_type": "code",
   "execution_count": 2,
   "metadata": {},
   "outputs": [],
   "source": [
    "def ingresar_nota():\n",
    "\n",
    "    try:\n",
    "        nota = float(input(\"Introduce la nota(0 - 10): \"))\n",
    "        \n",
    "        if nota >=0 and nota <= 10:\n",
    "            return nota  # Importante romper la iteración si todo ha salido bien\n",
    "        else:\n",
    "            print('nota fuera del rango')\n",
    "            return ingresar_nota()\n",
    "    except:\n",
    "        print(\"Ha ocurrido un error, introduce bien la nota\")\n",
    "        return ingresar_nota()"
   ]
  },
  {
   "cell_type": "code",
   "execution_count": 4,
   "metadata": {},
   "outputs": [],
   "source": [
    "def listar_alumnos(cantidad_alumnos):\n",
    "    lista_alumnos = []\n",
    "    for i in range(cantidad_alumnos):\n",
    "        alumno = {}\n",
    "        # Ingreso de nombre de alumno\n",
    "        alumno['nombre'] = input('Ingrese el nombre del alumno {}: '.format(i+1))\n",
    "    \n",
    "        # ingreso de notas\n",
    "        alumno['nota1'] = ingresar_nota()\n",
    "        alumno['nota2'] = ingresar_nota()\n",
    "        alumno['nota3'] = ingresar_nota()\n",
    "    \n",
    "        # agregando alumno a lista alumnos\n",
    "        lista_alumnos.append(alumno)\n",
    "    \n",
    "    return lista_alumnos"
   ]
  },
  {
   "cell_type": "code",
   "execution_count": 3,
   "metadata": {},
   "outputs": [],
   "source": [
    "def cantidad_alumnos():\n",
    "    try:\n",
    "        n = int(input('Cantidad de alumnos a ingresar: '))\n",
    "        if n>0:\n",
    "            return n\n",
    "        else:\n",
    "            print(\"Debe digitar canttidades positivas\")\n",
    "            return cantidad_alumnos()\n",
    "    except:\n",
    "        print(\"¡ERROR! Digite un número válido\")\n",
    "        return cantidad_alumnos()"
   ]
  },
  {
   "cell_type": "code",
   "execution_count": 31,
   "metadata": {},
   "outputs": [],
   "source": [
    "n = cantidad_alumnos()"
   ]
  },
  {
   "cell_type": "code",
   "execution_count": null,
   "metadata": {},
   "outputs": [],
   "source": [
    "lista_alumnos = listar_alumnos(n)"
   ]
  },
  {
   "cell_type": "code",
   "execution_count": 32,
   "metadata": {},
   "outputs": [],
   "source": [
    "print(\"\\n***LISTADO***\")\n",
    "for i in lista_alumnos:\n",
    "    print(\"Nombre:\",i[\"nombre\"])\n",
    "    print(\"Nota 1:\",i[\"nota1\"])\n",
    "    print(\"Nota 2:\",i[\"nota2\"])\n",
    "    print(\"Nota 3:\",i[\"nota3\"])"
   ]
  },
  {
   "cell_type": "code",
   "execution_count": null,
   "metadata": {},
   "outputs": [],
   "source": []
  },
  {
   "cell_type": "code",
   "execution_count": null,
   "metadata": {},
   "outputs": [],
   "source": []
  },
  {
   "cell_type": "markdown",
   "metadata": {},
   "source": [
    "### 2.\n",
    "Definir una función que dado un listado de alumnos evalúe cuántos aprobaron y cuántos desaprobaron, teniendo en cuenta que se aprueba con 4. La nota será el promedio de las 3 notas para cada alumno."
   ]
  },
  {
   "cell_type": "code",
   "execution_count": null,
   "metadata": {},
   "outputs": [],
   "source": [
    "def promedios(lista_alumnos):\n",
    "    promedio = []\n",
    "    for i in range(len(lista_alumnos)):\n",
    "        valor = (lista_alumnos[i][\"nota1\"]+lista_alumnos[i][\"nota2\"]+lista_alumnos[i][\"nota3\"])/3\n",
    "        promedio.append(valor)\n",
    "    return promedio"
   ]
  },
  {
   "cell_type": "code",
   "execution_count": null,
   "metadata": {},
   "outputs": [],
   "source": [
    "def aprobado_desaprobado(promedio):\n",
    "    a = 0\n",
    "    d = 0\n",
    "    for i in range(len(promedio)):\n",
    "        if promedio[i]>=4:\n",
    "            a+=1\n",
    "        else:\n",
    "            d +=1\n",
    "    return a,d"
   ]
  },
  {
   "cell_type": "code",
   "execution_count": null,
   "metadata": {},
   "outputs": [],
   "source": [
    "promedio = promedios(lista_alumnos)"
   ]
  },
  {
   "cell_type": "code",
   "execution_count": null,
   "metadata": {},
   "outputs": [],
   "source": [
    "cantidades = aprobado_desaprobado(promedio)"
   ]
  },
  {
   "cell_type": "code",
   "execution_count": null,
   "metadata": {},
   "outputs": [],
   "source": [
    "aprobados = cantidades[0]\n",
    "desaprobados = cantidades[1]"
   ]
  },
  {
   "cell_type": "code",
   "execution_count": null,
   "metadata": {},
   "outputs": [],
   "source": [
    "print(\"Aprobados {}\".format(aprobados))"
   ]
  },
  {
   "cell_type": "code",
   "execution_count": null,
   "metadata": {},
   "outputs": [],
   "source": [
    "print(\"Desaprobados {}\".format(desaprobados))"
   ]
  },
  {
   "cell_type": "markdown",
   "metadata": {},
   "source": [
    "### 3.\n",
    "Informar el promedio de nota del curso total."
   ]
  },
  {
   "cell_type": "code",
   "execution_count": null,
   "metadata": {},
   "outputs": [],
   "source": [
    "def promedio_total(promedio):\n",
    "    suma = 0\n",
    "    for i in range(len(promedio)):\n",
    "        suma += promedio[i]\n",
    "    promedio_final = suma/len(promedio)\n",
    "    return promedio_final"
   ]
  },
  {
   "cell_type": "code",
   "execution_count": null,
   "metadata": {},
   "outputs": [],
   "source": [
    "promedio_final = promedio_total(promedio)"
   ]
  },
  {
   "cell_type": "code",
   "execution_count": null,
   "metadata": {},
   "outputs": [],
   "source": [
    "print(\"El promedio final del curso es {}\".format(promedio_final))"
   ]
  },
  {
   "cell_type": "markdown",
   "metadata": {},
   "source": [
    "### 4.\n",
    "Realizar una función que indique quién tuvo el promedio más alto y quién tuvo la nota promedio más baja."
   ]
  },
  {
   "cell_type": "code",
   "execution_count": null,
   "metadata": {},
   "outputs": [],
   "source": [
    "def promedio_alto(promedio):\n",
    "    may = max(promedio)\n",
    "    indice = promedio.index(may)\n",
    "    return indice\n",
    "            "
   ]
  },
  {
   "cell_type": "code",
   "execution_count": null,
   "metadata": {},
   "outputs": [],
   "source": [
    "def promedio_bajo(promedio):\n",
    "    men = min(promedio)\n",
    "    indice = promedio.index(men)\n",
    "    return indice"
   ]
  },
  {
   "cell_type": "code",
   "execution_count": null,
   "metadata": {},
   "outputs": [],
   "source": [
    "indice_mayor = promedio_alto(promedio)"
   ]
  },
  {
   "cell_type": "code",
   "execution_count": null,
   "metadata": {},
   "outputs": [],
   "source": [
    "indice_menor = promedio_bajo(promedio)"
   ]
  },
  {
   "cell_type": "code",
   "execution_count": null,
   "metadata": {},
   "outputs": [],
   "source": [
    "print(\"El alumno {} tuvo el promedio más alto con {}\".format(lista_alumnos[indice_mayor][\"nombre\"],promedio[indice_mayor]))"
   ]
  },
  {
   "cell_type": "code",
   "execution_count": null,
   "metadata": {},
   "outputs": [],
   "source": [
    "print(\"El alumno {} tuvo el promedio más bajo con {}\".format(lista_alumnos[indice_menor][\"nombre\"],promedio[indice_menor]))"
   ]
  },
  {
   "cell_type": "markdown",
   "metadata": {},
   "source": [
    "### 5.\n",
    "Realizar una función que permita buscar un alumno por nombre, siendo el nombre completo o parcial, y devuelva una lista con los n alumnos que concuerden con ese nombre junto con todos sus datos, incluido el promedio de sus notas."
   ]
  },
  {
   "cell_type": "code",
   "execution_count": null,
   "metadata": {},
   "outputs": [],
   "source": [
    "def buscar_alumno(nombre,lista_alumnos):\n",
    "    indices_buscados = []\n",
    "    for i in range(len(lista_alumnos)):\n",
    "        count = 0\n",
    "        for t in range(len(nombre)):\n",
    "            if nombre[t].lower() == lista_alumnos[i][\"nombre\"][t].lower():\n",
    "                count += 1\n",
    "            \n",
    "        if count == len(nombre):\n",
    "                indices_buscados.append(i)\n",
    "    \n",
    "    if len(indices_buscados)>0:\n",
    "        return indices_buscados\n",
    "    else:\n",
    "        return \"\\n**NO SE ENCONTRARON ALUMNOS**\"\n",
    "            "
   ]
  },
  {
   "cell_type": "code",
   "execution_count": null,
   "metadata": {},
   "outputs": [],
   "source": [
    "nombre = input(\"Digite nombre completo o parcial: \")"
   ]
  },
  {
   "cell_type": "code",
   "execution_count": null,
   "metadata": {},
   "outputs": [],
   "source": [
    "indices = buscar_alumno(nombre, lista_alumnos)"
   ]
  },
  {
   "cell_type": "code",
   "execution_count": null,
   "metadata": {},
   "outputs": [],
   "source": [
    "if type(indices) is list:\n",
    "    print(\"\\n**Alumnos Encontrados**\")\n",
    "    for i in range(len(indices)):\n",
    "        print(\"Nombre: {}\".format(lista_alumnos[indices[i]][\"nombre\"]))\n",
    "        print(\"Nota 1: {}\".format(lista_alumnos[indices[i]][\"nota1\"]))\n",
    "        print(\"Nota 2: {}\".format(lista_alumnos[indices[i]][\"nota2\"]))\n",
    "        print(\"Nota 3: {}\".format(lista_alumnos[indices[i]][\"nota3\"]))\n",
    "        print(\"Promedio: {}\".format(promedio[indices[i]]))\n",
    "        print(\"\\n\")\n",
    "else:\n",
    "    print(indices)"
   ]
  }
 ],
 "metadata": {
  "kernelspec": {
   "display_name": "Python 3",
   "language": "python",
   "name": "python3"
  },
  "language_info": {
   "codemirror_mode": {
    "name": "ipython",
    "version": 3
   },
   "file_extension": ".py",
   "mimetype": "text/x-python",
   "name": "python",
   "nbconvert_exporter": "python",
   "pygments_lexer": "ipython3",
   "version": "3.8.5"
  }
 },
 "nbformat": 4,
 "nbformat_minor": 4
}
