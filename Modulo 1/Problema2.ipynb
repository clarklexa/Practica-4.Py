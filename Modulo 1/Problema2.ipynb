{
 "cells": [
  {
   "cell_type": "markdown",
   "metadata": {},
   "source": [
    "# SUBSTITUCION"
   ]
  },
  {
   "cell_type": "markdown",
   "metadata": {},
   "source": [
    "Implemente un programa que implemente un cifrado de sustitución, como se indica a continuación."
   ]
  },
  {
   "cell_type": "markdown",
   "metadata": {},
   "source": [
    "<img src='./img/ejercicio2.PNG'>\n",
    "<!-- \"C:\\Users\\gdelgadr\\Desktop\\JoinProcess\\PYTHON-FUNDAMENTOS-JOINPROCESS\\Modulo1\\Ejercicios\\img\\ejercicio1.PNG\" -->"
   ]
  },
  {
   "cell_type": "markdown",
   "metadata": {},
   "source": [
    "## ANTECEDENTES"
   ]
  },
  {
   "cell_type": "markdown",
   "metadata": {},
   "source": [
    "En un cifrado de sustitución, “ciframos” (es decir, ocultamos de forma reversible) un mensaje reemplazando cada letra por otra. Para ello utilizamos una clave : en este caso, un mapeo de cada una de las letras del alfabeto a la letra a la que debe corresponder cuando lo cifremos. Para \"descifrar\" el mensaje, el receptor del mensaje necesitaría conocer la clave, de modo que pueda revertir el proceso: traducir el texto cifrado (generalmente llamado texto cifrado ) al mensaje original (generalmente llamado texto plano )."
   ]
  },
  {
   "cell_type": "markdown",
   "metadata": {},
   "source": [
    "Una clave, por ejemplo, podría ser la cadena <b>NQXPOMAFTRHLZGECYJIUWSKDVB</b>. Esta clave de 26 caracteres significa que <b>A</b> (la primera letra del alfabeto) debe convertirse en <b>N</b> (el primer carácter de la clave), <b>B</b> (la segunda letra del alfabeto) debe convertirse en <b>Q</b> (el segundo carácter de la clave) y así sucesivamente."
   ]
  },
  {
   "cell_type": "markdown",
   "metadata": {},
   "source": [
    "Un mensaje como <b>HELLO</b>, entonces, sería encriptado como <b>FOLLE</b>, reemplazando cada una de las letras según el mapeo determinado por la clave."
   ]
  },
  {
   "cell_type": "markdown",
   "metadata": {},
   "source": [
    "Escriba un programa llamado <b>substitution</b> que le permita cifrar mensajes usando un cifrado de sustitución. En el momento en que el usuario ejecuta el programa, debe decidir, proporcionando un argumento de línea de comandos, cuál debe ser la clave en el mensaje secreto que proporcionará en tiempo de ejecución.\n",
    "\n"
   ]
  },
  {
   "cell_type": "markdown",
   "metadata": {},
   "source": [
    "A continuación se muestran algunos ejemplos de cómo podría funcionar el programa. Por ejemplo, si el usuario ingresa una clave de <code>YTNSHKVEFXRBAUQZCLWDMIPGJO</code> y un texto sin formato de <code>HELLO</code>:"
   ]
  },
  {
   "cell_type": "markdown",
   "metadata": {},
   "source": [
    "### Ejemplo1\n",
    "<code>python substitution.py YTNSHKVEFXRBAUQZCLWDMIPGJO <code>\n",
    "<code>plaintext:  HELLO<code>\n",
    "<code>ciphertext: EHBBQ<code>"
   ]
  },
  {
   "cell_type": "markdown",
   "metadata": {},
   "source": [
    "Así es como el programa podría funcionar si el usuario proporciona una clave <code>VCHPRZGJNTLSKFBDQWAXEUYMOI</code> y un texto sin formato de <code>hello, world</code>:"
   ]
  },
  {
   "cell_type": "markdown",
   "metadata": {},
   "source": [
    "### Ejemplo2\n",
    "<code>python substitution.py VCHPRZGJNTLSKFBDQWAXEUYMOI <code>\n",
    "plaintext:  hello, world\n",
    "ciphertext: jrssb, ybwsp"
   ]
  },
  {
   "cell_type": "markdown",
   "metadata": {},
   "source": [
    "Observe que ni la coma ni el espacio fueron sustituidos por el cifrado. ¡Sustituya únicamente caracteres alfabéticos! Observe también que se ha conservado el caso del mensaje original. Las letras minúsculas permanecen en minúsculas y las letras mayúsculas permanecen en mayúsculas.\n",
    "\n",
    "No importa si los caracteres de la clave en sí son mayúsculas o minúsculas. Una clave de <code>VCHPRZGJNTLSKFBDQWAXEUYMOI</code> es funcionalmente idéntica a una clave de <code>vchprzgjntlskfbdqwaxeuymoi</code>(tal cual, para el caso <code>VcHpRzGjNtLsKfBdQwAxEuYmOi</code>).\n",
    "\n",
    "¿Y si un usuario no proporciona una clave válida?"
   ]
  },
  {
   "cell_type": "markdown",
   "metadata": {},
   "source": [
    "<code>python substitution.py ABC\n",
    "Key must contain 26 characters."
   ]
  },
  {
   "cell_type": "markdown",
   "metadata": {},
   "source": [
    "Para todos los casos en que no se proporcione una clave válida el programa debe concluir con algún mensaje de error"
   ]
  },
  {
   "cell_type": "markdown",
   "metadata": {},
   "source": [
    "## ESPECIFICACIONES"
   ]
  },
  {
   "cell_type": "markdown",
   "metadata": {},
   "source": [
    "Diseñe e implemente un programa, <code>substitution</code> que encripta mensajes usando un cifrado de sustitución.\n",
    "\n",
    "- Implemente su programa en un archivo llamado <code>substitution.py</code>.\n",
    "- Su programa debe aceptar un único argumento de línea de comandos, la clave que se utilizará para la sustitución. La clave en sí no debe distinguir entre mayúsculas y minúsculas, por lo que si algún carácter de la clave está en mayúsculas o minúsculas no debería afectar el comportamiento de su programa.\n",
    "- Si su programa se ejecuta sin ningún argumento de línea de comando o con más de un argumento de línea de comando, su programa debe imprimir un mensaje de error de su elección (con <code>print</code>) y retornar un valor de <code>1</code>(que tiende a significar un error) inmediatamente.\n",
    "- Si la clave no es válida (por ejemplo, al no contener 26 caracteres, contener cualquier carácter que no sea un carácter alfabético o no contener cada letra exactamente una vez), su programa debe imprimir un mensaje de error de su elección (con <code>print</code>) y retornar un valor de <code>1</code>(que tiende a significar un error) inmediatamente.\n",
    "- Su programa debe generar <code>plaintext:</code> (sin una nueva línea) y luego solicitar al usuario un texto plano (usando <code>input</code>).\n",
    "- Su programa debe generar <code>ciphertext:</code>(sin una nueva línea) seguido por el texto cifrado correspondiente del texto sin formato, con cada carácter alfabético en el texto sin formato sustituido por el carácter correspondiente en el texto cifrado; Los caracteres no alfabéticos deben imprimirse sin cambios.\n",
    "- Su programa debe preservar el uso de mayúsculas y minúsculas: las letras en mayúscula deben permanecer en mayúsculas; las letras minúsculas deben permanecer en minúsculas.\n",
    "\n",
    "- Después de generar texto cifrado, debe imprimir una nueva línea con el valor de <code>0</code> (el cual implica ejecución exitosa)."
   ]
  },
  {
   "cell_type": "markdown",
   "metadata": {},
   "source": [
    "## Pruebas"
   ]
  },
  {
   "cell_type": "markdown",
   "metadata": {},
   "source": [
    "Asegúrese de probar su código para cada uno de los siguientes.\n",
    "\n",
    "- Ejecute su programa como python sustitucion.py, para cada uno de los ejemplos dados en esta página\n",
    "- Otras pruebas se realizarán durante la clase"
   ]
  },
  {
   "cell_type": "markdown",
   "metadata": {},
   "source": [
    "## Pseudo Código"
   ]
  },
  {
   "cell_type": "markdown",
   "metadata": {},
   "source": [
    "1. Leer <code>llave sustitucion</code> y solicitar <code>plaintext</code>\n",
    "2. Obtengo una lista con el <code>abecedario</code>\n",
    "3. Reccoro letra por letra de <code>plaintext</code>, identifico la posición de la letra en el <code>abecedario</code> y se reemplaza por la posición de la letra en la <code>llave sustitición</code>"
   ]
  },
  {
   "cell_type": "code",
   "execution_count": null,
   "metadata": {},
   "outputs": [],
   "source": [
    "\n",
    "escribir \"Digite clave (solo 26 caracteres alfabéticos)\"\n",
    "leer sustitucion\n",
    "ciphertext = \"\"\n",
    "tamaño = longitud(sustitucion)\n",
    "\n",
    "si tamaño==26 entonces\n",
    "    escribir \"Digite texto a cifrar\"\n",
    "    leer plaintext\n",
    "    abecedario = \"abcdefghijklmnopqrstuvwxyz\"\n",
    "    \n",
    "    repetir i = 0 hasta i = tamaño -1\n",
    "        indice = abecedario(buscar_indice(plaintext[i]))\n",
    "        cifrado += sustitucion[indice]\n",
    "    \n",
    "    escribir \"plaintext:  hello, world\", plaintext\n",
    "    escribir \"ciphertext: jrssb, ybwsp\", ciphertext\n",
    "        \n",
    "sino\n",
    "    escribir \"Clave no válida, debe contener 26 caracteres\"\n",
    "    \n",
    "    \n",
    "#Seguí el pseudocógico tal como las indicaciones 1,2 y 3 (En el programa lo haré más completo)"
   ]
  },
  {
   "cell_type": "markdown",
   "metadata": {},
   "source": [
    "## Código"
   ]
  },
  {
   "cell_type": "code",
   "execution_count": 6,
   "metadata": {},
   "outputs": [],
   "source": [
    "import string            \n",
    "import random"
   ]
  },
  {
   "cell_type": "code",
   "execution_count": 7,
   "metadata": {},
   "outputs": [],
   "source": [
    "abecedario = string.ascii_lowercase\n",
    "clave = \"\"\n",
    "ciphertext = \"\"\n",
    "plaintext = \"\"\n"
   ]
  },
  {
   "cell_type": "code",
   "execution_count": 8,
   "metadata": {},
   "outputs": [],
   "source": [
    "def generar_clave():\n",
    "    clave_generada = \"\"\n",
    "    clave = []\n",
    "    while True:\n",
    "        aleatorio = random.randint(0,25)\n",
    "        clave += list(abecedario[aleatorio])\n",
    "        clave = list(set(clave))\n",
    "        if len(clave) == 26:\n",
    "            for i in range(26):\n",
    "                clave_generada += clave[i]\n",
    "            \n",
    "            break\n",
    "    \n",
    "    return clave_generada"
   ]
  },
  {
   "cell_type": "code",
   "execution_count": 9,
   "metadata": {},
   "outputs": [],
   "source": [
    "def descifrar_palabra(clave):\n",
    "    if len(clave) > 0:\n",
    "        ciphertext = \"\"\n",
    "        plaintext = input(\"Digite texto a descifrar: \")\n",
    "        for palabra in plaintext:\n",
    "            if palabra.lower() in abecedario:\n",
    "                index = abecedario.index(palabra.lower())\n",
    "                if palabra.islower():\n",
    "                    ciphertext += clave[index]\n",
    "                else:\n",
    "                    ciphertext += clave[index].upper()\n",
    "            else:\n",
    "                ciphertext += palabra\n",
    "        return plaintext , ciphertext\n",
    "    else:\n",
    "        return 1"
   ]
  },
  {
   "cell_type": "code",
   "execution_count": 12,
   "metadata": {},
   "outputs": [
    {
     "name": "stdout",
     "output_type": "stream",
     "text": [
      "\n",
      "***MENU DEL CIFRADO***\n",
      "1.- Generar clave de 26 caracteres\n",
      "2.- Generar Cifrado\n",
      "3.- Mostrar\n",
      "4.- Salir\n",
      "Opción: 4\n",
      "\n",
      "¡HASTA LUEGO!\n"
     ]
    }
   ],
   "source": [
    "while True:\n",
    "    print(\"\\n***MENU DEL CIFRADO***\")\n",
    "    print(\"1.- Generar clave de 26 caracteres\")\n",
    "    print(\"2.- Generar Cifrado\")\n",
    "    print(\"3.- Mostrar\")\n",
    "    print(\"4.- Salir\")\n",
    "    opcion = input(\"Opción: \")\n",
    "\n",
    "    if opcion == '1':\n",
    "        clave = generar_clave()\n",
    "        print(\"***CLAVE GENERADA*** \\n{}\".format(0))\n",
    "    elif opcion == '2':\n",
    "        codigos = descifrar_palabra(clave)\n",
    "        if codigos != 1:\n",
    "            plaintext = codigos[0]\n",
    "            ciphertext = codigos[1]\n",
    "            print(\"\\n***TEXTO CIFRADO***\")\n",
    "        else:\n",
    "            print(codigos)\n",
    "\n",
    "    elif opcion == '3':\n",
    "        if plaintext != \"\" and ciphertext != \"\": \n",
    "            print(\"\\nClave: {}\".format(clave))\n",
    "            print(\"\\nPlaintext: {}\".format(plaintext))\n",
    "            print(\"\\nCiphertext: {}\".format(ciphertext))\n",
    "            print(\"\\n\",0)\n",
    "        else:\n",
    "            print(1)\n",
    "\n",
    "    elif opcion == '4':\n",
    "        print(\"\\n¡HASTA LUEGO!\")\n",
    "        break\n",
    "    else:\n",
    "        print(\"\\nDIGITE OPCION VALIDA\")"
   ]
  },
  {
   "cell_type": "code",
   "execution_count": null,
   "metadata": {},
   "outputs": [],
   "source": []
  }
 ],
 "metadata": {
  "kernelspec": {
   "display_name": "Python 3",
   "language": "python",
   "name": "python3"
  },
  "language_info": {
   "codemirror_mode": {
    "name": "ipython",
    "version": 3
   },
   "file_extension": ".py",
   "mimetype": "text/x-python",
   "name": "python",
   "nbconvert_exporter": "python",
   "pygments_lexer": "ipython3",
   "version": "3.8.5"
  }
 },
 "nbformat": 4,
 "nbformat_minor": 4
}
